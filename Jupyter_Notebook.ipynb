{
 "cells": [
  {
   "cell_type": "markdown",
   "metadata": {},
   "source": [
    "<center>\n",
    "    <img src=\"https://cf-courses-data.s3.us.cloud-object-storage.appdomain.cloud/IBMDeveloperSkillsNetwork-DS0105EN-SkillsNetwork/labs/Module2/images/SN_web_lightmode.png\" width=\"300\" alt=\"cognitiveclass.ai logo\">\n",
    "</center>\n"
   ]
  },
  {
   "cell_type": "markdown",
   "metadata": {},
   "source": [
    "#### Add your code below following the instructions given in the course\n"
   ]
  },
  {
   "cell_type": "markdown",
   "metadata": {},
   "source": [
    "# Tools for data Science"
   ]
  },
  {
   "cell_type": "markdown",
   "metadata": {},
   "source": [
    "## Introduction"
   ]
  },
  {
   "cell_type": "markdown",
   "metadata": {},
   "source": [
    "###  Data science languages: \n",
    "Java, Scala, C++, JavaScript, Julia, Python, R, and SQL."
   ]
  },
  {
   "cell_type": "markdown",
   "metadata": {},
   "source": [
    "### Data science libraries: \n",
    "Pandas, NumPy, Matplotlib, Seaborn, SciKit, Scikit-learn, Keras, TensorFlow, Vegas, big DL, ggplot2 "
   ]
  },
  {
   "cell_type": "markdown",
   "metadata": {},
   "source": [
    "### Data science tools: \n",
    "MySQL, PostgreSQL,MongoDB, Apache CouchDB, Apache Cassandra,Hadoop File System, Ceph, Apache AirFlow, Jupyter Notebook and lab, Apache Zeppelin, RStudio, Spyder"
   ]
  },
  {
   "cell_type": "markdown",
   "metadata": {},
   "source": [
    "### Data Science Tools\n",
    "\n",
    "| Tool                | Description                                      |\n",
    "|---------------------|--------------------------------------------------|\n",
    "| Jupyter Notebook     | Open-source web application to create and share documents containing live code, equations, visualizations, and narrative text. |\n",
    "| RStudio             | Integrated development environment for R, used for statistical computing and graphics. |\n",
    "| Apache Hadoop       | Open-source framework for distributed storage and processing of large datasets. |\n",
    "| TensorFlow          | End-to-end open-source platform for machine learning developed by Google. |\n",
    "| Apache Spark        | Unified analytics engine for big data processing, with built-in modules for streaming, SQL, machine learning, and graph processing. |\n",
    "| Tableau             | Data visualization tool that helps to create a wide range of charts, maps, and dashboards. |\n",
    "| KNIME               | Open-source software for creating data science workflows and ETL processes. |\n",
    "| PyCharm             | Integrated development environment (IDE) for Python programming, commonly used for data science and machine learning. |\n",
    "| SAS                 | Software suite used for advanced analytics, multivariate analysis, business intelligence, and data management. |\n"
   ]
  },
  {
   "cell_type": "markdown",
   "metadata": {},
   "source": [
    "### Arithmetic Expression Examples\n",
    "\n",
    "Arithmetic expressions involve basic mathematical operations like addition, subtraction, multiplication, and division. These operations can be used to perform calculations on numerical data.\n",
    "\n",
    "Below are some examples of common arithmetic expressions:\n",
    "\n",
    "| Expression         | Operation                      | Result |\n",
    "|--------------------|---------------------------------|--------|\n",
    "| `3 + 5`            | Addition                       | 8      |\n",
    "| `10 - 2`           | Subtraction                    | 8      |\n",
    "| `4 * 7`            | Multiplication                 | 28     |\n",
    "| `16 / 4`           | Division                       | 4      |\n",
    "| `2 ** 3`           | Exponentiation (2 raised to 3) | 8      |\n",
    "| `10 % 3`           | Modulus (Remainder of 10 / 3)  | 1      |"
   ]
  },
  {
   "cell_type": "code",
   "execution_count": 1,
   "metadata": {
    "tags": []
   },
   "outputs": [
    {
     "name": "stdout",
     "output_type": "stream",
     "text": [
      "52\n"
     ]
    }
   ],
   "source": [
    "# Multiplication and Addition\n",
    "a = 5\n",
    "b = 10\n",
    "c = 2\n",
    "\n",
    "# Multiply a and b, then add c\n",
    "result = (a * b) + c\n",
    "\n",
    "# Display the result\n",
    "print(result)"
   ]
  },
  {
   "cell_type": "code",
   "execution_count": 2,
   "metadata": {
    "tags": []
   },
   "outputs": [
    {
     "name": "stdout",
     "output_type": "stream",
     "text": [
      "150 minutes is equal to 2.5 hours.\n"
     ]
    }
   ],
   "source": [
    "# Convert minutes to hours\n",
    "minutes = 150\n",
    "\n",
    "# 1 hour = 60 minutes\n",
    "hours = minutes / 60\n",
    "\n",
    "# Display the result\n",
    "print(f\"{minutes} minutes is equal to {hours} hours.\")"
   ]
  },
  {
   "cell_type": "markdown",
   "metadata": {
    "tags": []
   },
   "source": [
    "### Objectives\n",
    "\n",
    "- Understand the basic concepts of data science.\n",
    "- Learn how to use popular data science tools and libraries.\n",
    "- Explore different types of machine learning models.\n",
    "- Perform data analysis using Python and R.\n",
    "- Visualize data to gain meaningful insights.\n",
    "- Apply data science techniques to solve real-world problems."
   ]
  },
  {
   "cell_type": "markdown",
   "metadata": {},
   "source": [
    "### Author\n",
    "\n",
    "**Odysseas**"
   ]
  },
  {
   "cell_type": "code",
   "execution_count": null,
   "metadata": {},
   "outputs": [],
   "source": []
  }
 ],
 "metadata": {
  "kernelspec": {
   "display_name": "Python",
   "language": "python",
   "name": "conda-env-python-py"
  },
  "language_info": {
   "codemirror_mode": {
    "name": "ipython",
    "version": 3
   },
   "file_extension": ".py",
   "mimetype": "text/x-python",
   "name": "python",
   "nbconvert_exporter": "python",
   "pygments_lexer": "ipython3",
   "version": "3.7.12"
  }
 },
 "nbformat": 4,
 "nbformat_minor": 4
}
